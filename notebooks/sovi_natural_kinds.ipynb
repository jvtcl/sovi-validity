{
 "cells": [
  {
   "cell_type": "code",
   "execution_count": 60,
   "metadata": {
    "collapsed": false
   },
   "outputs": [],
   "source": [
    "import os\n",
    "import pandas as pd\n",
    "import seaborn as sns\n",
    "import matplotlib.pyplot as plt\n",
    "%matplotlib inline\n",
    "from sklearn import cluster\n",
    "from scipy.stats.mstats import zscore as ZSCORE\n",
    "\n",
    "parent=os.path.dirname(os.getcwd())"
   ]
  },
  {
   "cell_type": "markdown",
   "metadata": {},
   "source": [
    "## SoVI and Cluster Comparison \n",
    "\n",
    "Explore the variability of SoVI scores within clusters generated using the SoVI input data."
   ]
  },
  {
   "cell_type": "markdown",
   "metadata": {},
   "source": [
    "### Generate Clusters"
   ]
  },
  {
   "cell_type": "code",
   "execution_count": 45,
   "metadata": {
    "collapsed": true
   },
   "outputs": [],
   "source": [
    "# read in SoVI inputs\n",
    "sovi_in=pd.read_csv(os.path.join(parent,'sovi_inputs.csv'))"
   ]
  },
  {
   "cell_type": "code",
   "execution_count": 46,
   "metadata": {
    "collapsed": false
   },
   "outputs": [],
   "source": [
    "# sovi variables\n",
    "sovi_vars=pd.read_csv(os.path.join(parent,'data','SoVI_vars.csv'))"
   ]
  },
  {
   "cell_type": "code",
   "execution_count": 47,
   "metadata": {
    "collapsed": false
   },
   "outputs": [],
   "source": [
    "# input variables\n",
    "invars=sovi_in.columns[sovi_in.columns.isin(sovi_vars.Attribute)]"
   ]
  },
  {
   "cell_type": "code",
   "execution_count": 48,
   "metadata": {
    "collapsed": false
   },
   "outputs": [],
   "source": [
    "# generate k means clusterer\n",
    "km=cluster.KMeans(n_clusters=7)"
   ]
  },
  {
   "cell_type": "code",
   "execution_count": 49,
   "metadata": {
    "collapsed": true
   },
   "outputs": [],
   "source": [
    "# z-score sovi inputs\n",
    "# sovi_in_z=ZSCORE(sovi_in)\n",
    "\n",
    "# alternative way\n",
    "# http://stackoverflow.com/questions/24761998/pandas-compute-z-score-for-all-columns\n",
    "sovi_in_z=sovi_in.ix[:,invars]\n",
    "for col in list(sovi_in_z.columns):\n",
    "    sovi_in_z[col]=(sovi_in_z[col] - sovi_in_z[col].mean())/sovi_in_z[col].std()"
   ]
  },
  {
   "cell_type": "code",
   "execution_count": 51,
   "metadata": {
    "collapsed": false
   },
   "outputs": [
    {
     "data": {
      "text/html": [
       "<div>\n",
       "<table border=\"1\" class=\"dataframe\">\n",
       "  <thead>\n",
       "    <tr style=\"text-align: right;\">\n",
       "      <th></th>\n",
       "      <th>MEDAGE_ACS</th>\n",
       "      <th>BLACK_ACS</th>\n",
       "      <th>QNATAM_ACS</th>\n",
       "      <th>QASIAN_ACS</th>\n",
       "      <th>QHISP_ACS</th>\n",
       "      <th>QAGEDEP_ACS</th>\n",
       "      <th>QPUNIT_ACS</th>\n",
       "      <th>PRENTER_ACS</th>\n",
       "      <th>QNRRES_ACS</th>\n",
       "      <th>QFEMALE_ACS</th>\n",
       "      <th>...</th>\n",
       "      <th>QRICH200K</th>\n",
       "      <th>PERCAP_ALT</th>\n",
       "      <th>QESL_ALT</th>\n",
       "      <th>QED12LES_ALT</th>\n",
       "      <th>QEXTRCT_ALT</th>\n",
       "      <th>QSERV_ALT</th>\n",
       "      <th>QNOAUTO_ALT</th>\n",
       "      <th>MDGRENT_ALT</th>\n",
       "      <th>MHSEVAL_ALT</th>\n",
       "      <th>POPDENS</th>\n",
       "    </tr>\n",
       "  </thead>\n",
       "  <tbody>\n",
       "    <tr>\n",
       "      <th>0</th>\n",
       "      <td>-0.660725</td>\n",
       "      <td>0.626686</td>\n",
       "      <td>-0.196610</td>\n",
       "      <td>-0.136789</td>\n",
       "      <td>-0.444416</td>\n",
       "      <td>-0.934740</td>\n",
       "      <td>0.801174</td>\n",
       "      <td>-0.343664</td>\n",
       "      <td>-1.057903</td>\n",
       "      <td>0.580420</td>\n",
       "      <td>...</td>\n",
       "      <td>-0.115050</td>\n",
       "      <td>0.184526</td>\n",
       "      <td>-0.542333</td>\n",
       "      <td>-0.137532</td>\n",
       "      <td>-0.733176</td>\n",
       "      <td>-0.550441</td>\n",
       "      <td>-0.302353</td>\n",
       "      <td>0.900755</td>\n",
       "      <td>0.071927</td>\n",
       "      <td>-0.096964</td>\n",
       "    </tr>\n",
       "    <tr>\n",
       "      <th>1</th>\n",
       "      <td>0.165939</td>\n",
       "      <td>0.026248</td>\n",
       "      <td>-0.161984</td>\n",
       "      <td>-0.163845</td>\n",
       "      <td>-0.299569</td>\n",
       "      <td>0.231916</td>\n",
       "      <td>-0.138353</td>\n",
       "      <td>-0.608287</td>\n",
       "      <td>-0.847040</td>\n",
       "      <td>0.535248</td>\n",
       "      <td>...</td>\n",
       "      <td>0.559766</td>\n",
       "      <td>0.593578</td>\n",
       "      <td>-0.185123</td>\n",
       "      <td>-0.601180</td>\n",
       "      <td>-0.696753</td>\n",
       "      <td>-0.076326</td>\n",
       "      <td>-0.753717</td>\n",
       "      <td>1.104953</td>\n",
       "      <td>0.504300</td>\n",
       "      <td>-0.083444</td>\n",
       "    </tr>\n",
       "    <tr>\n",
       "      <th>2</th>\n",
       "      <td>-0.424535</td>\n",
       "      <td>2.554467</td>\n",
       "      <td>-0.223258</td>\n",
       "      <td>-0.372114</td>\n",
       "      <td>-0.250578</td>\n",
       "      <td>-0.494084</td>\n",
       "      <td>0.336965</td>\n",
       "      <td>0.487551</td>\n",
       "      <td>0.014516</td>\n",
       "      <td>-1.545264</td>\n",
       "      <td>...</td>\n",
       "      <td>-0.735613</td>\n",
       "      <td>-1.201658</td>\n",
       "      <td>-0.165709</td>\n",
       "      <td>1.498702</td>\n",
       "      <td>-0.456672</td>\n",
       "      <td>-0.391570</td>\n",
       "      <td>0.760305</td>\n",
       "      <td>-0.491012</td>\n",
       "      <td>-0.535866</td>\n",
       "      <td>-0.132061</td>\n",
       "    </tr>\n",
       "    <tr>\n",
       "      <th>3</th>\n",
       "      <td>-0.188346</td>\n",
       "      <td>0.886539</td>\n",
       "      <td>-0.187968</td>\n",
       "      <td>-0.408989</td>\n",
       "      <td>-0.486622</td>\n",
       "      <td>-0.946633</td>\n",
       "      <td>1.727406</td>\n",
       "      <td>-0.930278</td>\n",
       "      <td>-0.669853</td>\n",
       "      <td>-1.414014</td>\n",
       "      <td>...</td>\n",
       "      <td>-0.869368</td>\n",
       "      <td>-1.321000</td>\n",
       "      <td>-0.580038</td>\n",
       "      <td>1.136140</td>\n",
       "      <td>-0.721599</td>\n",
       "      <td>-1.275984</td>\n",
       "      <td>-0.306562</td>\n",
       "      <td>-0.469517</td>\n",
       "      <td>-0.500040</td>\n",
       "      <td>-0.128869</td>\n",
       "    </tr>\n",
       "    <tr>\n",
       "      <th>4</th>\n",
       "      <td>-0.247393</td>\n",
       "      <td>-0.525307</td>\n",
       "      <td>-0.207525</td>\n",
       "      <td>-0.385861</td>\n",
       "      <td>-0.015550</td>\n",
       "      <td>-0.273052</td>\n",
       "      <td>0.751412</td>\n",
       "      <td>-0.795502</td>\n",
       "      <td>-0.656920</td>\n",
       "      <td>0.177833</td>\n",
       "      <td>...</td>\n",
       "      <td>-0.642479</td>\n",
       "      <td>-0.523232</td>\n",
       "      <td>0.152987</td>\n",
       "      <td>1.204368</td>\n",
       "      <td>-0.521756</td>\n",
       "      <td>-1.140708</td>\n",
       "      <td>-0.588850</td>\n",
       "      <td>-0.431902</td>\n",
       "      <td>-0.208498</td>\n",
       "      <td>-0.098528</td>\n",
       "    </tr>\n",
       "  </tbody>\n",
       "</table>\n",
       "<p>5 rows × 28 columns</p>\n",
       "</div>"
      ],
      "text/plain": [
       "   MEDAGE_ACS  BLACK_ACS  QNATAM_ACS  QASIAN_ACS  QHISP_ACS  QAGEDEP_ACS  \\\n",
       "0   -0.660725   0.626686   -0.196610   -0.136789  -0.444416    -0.934740   \n",
       "1    0.165939   0.026248   -0.161984   -0.163845  -0.299569     0.231916   \n",
       "2   -0.424535   2.554467   -0.223258   -0.372114  -0.250578    -0.494084   \n",
       "3   -0.188346   0.886539   -0.187968   -0.408989  -0.486622    -0.946633   \n",
       "4   -0.247393  -0.525307   -0.207525   -0.385861  -0.015550    -0.273052   \n",
       "\n",
       "   QPUNIT_ACS  PRENTER_ACS  QNRRES_ACS  QFEMALE_ACS    ...     QRICH200K  \\\n",
       "0    0.801174    -0.343664   -1.057903     0.580420    ...     -0.115050   \n",
       "1   -0.138353    -0.608287   -0.847040     0.535248    ...      0.559766   \n",
       "2    0.336965     0.487551    0.014516    -1.545264    ...     -0.735613   \n",
       "3    1.727406    -0.930278   -0.669853    -1.414014    ...     -0.869368   \n",
       "4    0.751412    -0.795502   -0.656920     0.177833    ...     -0.642479   \n",
       "\n",
       "   PERCAP_ALT  QESL_ALT  QED12LES_ALT  QEXTRCT_ALT  QSERV_ALT  QNOAUTO_ALT  \\\n",
       "0    0.184526 -0.542333     -0.137532    -0.733176  -0.550441    -0.302353   \n",
       "1    0.593578 -0.185123     -0.601180    -0.696753  -0.076326    -0.753717   \n",
       "2   -1.201658 -0.165709      1.498702    -0.456672  -0.391570     0.760305   \n",
       "3   -1.321000 -0.580038      1.136140    -0.721599  -1.275984    -0.306562   \n",
       "4   -0.523232  0.152987      1.204368    -0.521756  -1.140708    -0.588850   \n",
       "\n",
       "   MDGRENT_ALT  MHSEVAL_ALT   POPDENS  \n",
       "0     0.900755     0.071927 -0.096964  \n",
       "1     1.104953     0.504300 -0.083444  \n",
       "2    -0.491012    -0.535866 -0.132061  \n",
       "3    -0.469517    -0.500040 -0.128869  \n",
       "4    -0.431902    -0.208498 -0.098528  \n",
       "\n",
       "[5 rows x 28 columns]"
      ]
     },
     "execution_count": 51,
     "metadata": {},
     "output_type": "execute_result"
    }
   ],
   "source": [
    "# check\n",
    "sovi_in_z.head()"
   ]
  },
  {
   "cell_type": "code",
   "execution_count": 52,
   "metadata": {
    "collapsed": true
   },
   "outputs": [],
   "source": [
    "# generate clusters\n",
    "sovi_clust=km.fit(sovi_in_z)"
   ]
  },
  {
   "cell_type": "code",
   "execution_count": 75,
   "metadata": {
    "collapsed": false
   },
   "outputs": [],
   "source": [
    "# read in sovi index values\n",
    "sovi_usa=pd.read_csv(os.path.join(parent,'data','output','US_Sovi_Score.csv'))"
   ]
  },
  {
   "cell_type": "code",
   "execution_count": 76,
   "metadata": {
    "collapsed": false
   },
   "outputs": [],
   "source": [
    "# merge scores and cluster labels to ensure correct order\n",
    "sovi_clust_df=pd.DataFrame({'Geo_FIPS':sovi_in.Geo_FIPS,'cluster':sovi_clust.labels_})\n",
    "sovi_scores_clust=sovi_usa.merge(sovi_clust_df,on='Geo_FIPS')"
   ]
  },
  {
   "cell_type": "code",
   "execution_count": 77,
   "metadata": {
    "collapsed": false
   },
   "outputs": [
    {
     "data": {
      "text/html": [
       "<div>\n",
       "<table border=\"1\" class=\"dataframe\">\n",
       "  <thead>\n",
       "    <tr style=\"text-align: right;\">\n",
       "      <th></th>\n",
       "      <th>Geo_FIPS</th>\n",
       "      <th>sovi</th>\n",
       "      <th>rank</th>\n",
       "      <th>cluster</th>\n",
       "    </tr>\n",
       "  </thead>\n",
       "  <tbody>\n",
       "    <tr>\n",
       "      <th>0</th>\n",
       "      <td>g01001</td>\n",
       "      <td>-3.377904</td>\n",
       "      <td>578.0</td>\n",
       "      <td>1</td>\n",
       "    </tr>\n",
       "    <tr>\n",
       "      <th>1</th>\n",
       "      <td>g01003</td>\n",
       "      <td>-1.181056</td>\n",
       "      <td>1900.0</td>\n",
       "      <td>1</td>\n",
       "    </tr>\n",
       "    <tr>\n",
       "      <th>2</th>\n",
       "      <td>g01005</td>\n",
       "      <td>-0.024258</td>\n",
       "      <td>3124.0</td>\n",
       "      <td>0</td>\n",
       "    </tr>\n",
       "    <tr>\n",
       "      <th>3</th>\n",
       "      <td>g01007</td>\n",
       "      <td>-4.418068</td>\n",
       "      <td>326.0</td>\n",
       "      <td>5</td>\n",
       "    </tr>\n",
       "    <tr>\n",
       "      <th>4</th>\n",
       "      <td>g01009</td>\n",
       "      <td>-1.918606</td>\n",
       "      <td>1303.0</td>\n",
       "      <td>5</td>\n",
       "    </tr>\n",
       "  </tbody>\n",
       "</table>\n",
       "</div>"
      ],
      "text/plain": [
       "  Geo_FIPS      sovi    rank  cluster\n",
       "0   g01001 -3.377904   578.0        1\n",
       "1   g01003 -1.181056  1900.0        1\n",
       "2   g01005 -0.024258  3124.0        0\n",
       "3   g01007 -4.418068   326.0        5\n",
       "4   g01009 -1.918606  1303.0        5"
      ]
     },
     "execution_count": 77,
     "metadata": {},
     "output_type": "execute_result"
    }
   ],
   "source": [
    "sovi_scores_clust.head()"
   ]
  },
  {
   "cell_type": "code",
   "execution_count": 78,
   "metadata": {
    "collapsed": false
   },
   "outputs": [
    {
     "data": {
      "text/plain": [
       "<matplotlib.axes._subplots.AxesSubplot at 0x1b3487f1550>"
      ]
     },
     "execution_count": 78,
     "metadata": {},
     "output_type": "execute_result"
    },
    {
     "data": {
      "image/png": "[encoded data removed]",
      "text/plain": [
       "<matplotlib.figure.Figure at 0x1b3487f0be0>"
      ]
     },
     "metadata": {},
     "output_type": "display_data"
    }
   ],
   "source": [
    "sns.boxplot(x=\"cluster\",y=\"sovi\",data=sovi_scores_clust)"
   ]
  }
 ],
 "metadata": {
  "kernelspec": {
   "display_name": "Python [Root]",
   "language": "python",
   "name": "Python [Root]"
  },
  "language_info": {
   "codemirror_mode": {
    "name": "ipython",
    "version": 3
   },
   "file_extension": ".py",
   "mimetype": "text/x-python",
   "name": "python",
   "nbconvert_exporter": "python",
   "pygments_lexer": "ipython3",
   "version": "3.5.2"
  }
 },
 "nbformat": 4,
 "nbformat_minor": 0
}
